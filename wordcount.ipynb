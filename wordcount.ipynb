{
 "cells": [
  {
   "cell_type": "code",
   "execution_count": 1,
   "metadata": {
    "collapsed": false
   },
   "outputs": [
    {
     "data": {
      "text/plain": [
       "\"alma kutya ffghfg fgkfjfg\\nalma kutya alma\\n\\nfdfdf\\n\""
      ]
     },
     "execution_count": 1,
     "metadata": {},
     "output_type": "execute_result"
    }
   ],
   "source": [
    "s = \"\"\"alma kutya ffghfg fgkfjfg\n",
    "alma kutya alma\n",
    "\n",
    "fdfdf\n",
    "\"\"\""
   ]
  },
  {
   "cell_type": "code",
   "execution_count": 8,
   "metadata": {
    "collapsed": false
   },
   "outputs": [],
   "source": [
    "wc = Dict{AbstractString,Int64}()\n",
    "for l in split(s, '\\n')\n",
    "    for w in split(l)\n",
    "        wc[w]=get(wc, w, 0) + 1\n",
    "    end\n",
    "end"
   ]
  },
  {
   "cell_type": "code",
   "execution_count": 31,
   "metadata": {
    "collapsed": false
   },
   "outputs": [
    {
     "name": "stdout",
     "output_type": "stream",
     "text": [
      "3\talma\n",
      "2\tkutya\n",
      "1\tfdfdf\n",
      "1\tffghfg\n",
      "1\tfgkfjfg\n"
     ]
    }
   ],
   "source": [
    "for t in sort(collect(wc), by=x -> (-x.second, x.first))\n",
    "    println(t.second, \"\\t\", t.first)\n",
    "end"
   ]
  }
 ],
 "metadata": {
  "kernelspec": {
   "display_name": "Julia 0.4.1",
   "language": "julia",
   "name": "julia-0.4"
  },
  "language_info": {
   "file_extension": ".jl",
   "mimetype": "application/julia",
   "name": "julia",
   "version": "0.4.1"
  }
 },
 "nbformat": 4,
 "nbformat_minor": 0
}
